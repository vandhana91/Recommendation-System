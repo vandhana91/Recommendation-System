{
  "metadata": {
    "kernelspec": {
      "name": "python",
      "display_name": "Python (Pyodide)",
      "language": "python"
    },
    "language_info": {
      "codemirror_mode": {
        "name": "python",
        "version": 3
      },
      "file_extension": ".py",
      "mimetype": "text/x-python",
      "name": "python",
      "nbconvert_exporter": "python",
      "pygments_lexer": "ipython3",
      "version": "3.8"
    }
  },
  "nbformat_minor": 4,
  "nbformat": 4,
  "cells": [
    {
      "cell_type": "code",
      "source": "import pandas as pd\nimport numpy as np",
      "metadata": {
        "trusted": true
      },
      "outputs": [],
      "execution_count": 67
    },
    {
      "cell_type": "code",
      "source": "rcols=['user_id','movie_id','rating','unix_timestamp']\nratings = pd.read_csv('user based/u.data',sep ='\\t',names = rcols,encoding='latin-1')",
      "metadata": {
        "trusted": true
      },
      "outputs": [],
      "execution_count": 68
    },
    {
      "cell_type": "markdown",
      "source": "Replace the rating value 879539614 to 5[highest rating]",
      "metadata": {}
    },
    {
      "cell_type": "code",
      "source": "ratings['rating'].unique()",
      "metadata": {
        "trusted": true
      },
      "outputs": [
        {
          "execution_count": 69,
          "output_type": "execute_result",
          "data": {
            "text/plain": "array([879539614,         3,         4,         2,         5,         1],\n      dtype=int64)"
          },
          "metadata": {}
        }
      ],
      "execution_count": 69
    },
    {
      "cell_type": "code",
      "source": "ratings['rating'].replace({879539614:5},inplace = True)",
      "metadata": {
        "trusted": true
      },
      "outputs": [
        {
          "name": "stderr",
          "text": "<ipython-input-70-74c6122a81be>:1: FutureWarning: A value is trying to be set on a copy of a DataFrame or Series through chained assignment using an inplace method.\nThe behavior will change in pandas 3.0. This inplace method will never work because the intermediate object on which we are setting values always behaves as a copy.\n\nFor example, when doing 'df[col].method(value, inplace=True)', try using 'df.method({col: value}, inplace=True)' or df[col] = df[col].method(value) instead, to perform the operation inplace on the original object.\n\n\n  ratings['rating'].replace({879539614:5},inplace = True)\n",
          "output_type": "stream"
        }
      ],
      "execution_count": 70
    },
    {
      "cell_type": "code",
      "source": "ratings",
      "metadata": {
        "trusted": true
      },
      "outputs": [
        {
          "execution_count": 71,
          "output_type": "execute_result",
          "data": {
            "text/plain": "       user_id  movie_id  rating  unix_timestamp\n0           82         3       5             NaN\n1          251       471       3     886272319.0\n2          566        31       3     881650825.0\n3          637       338       4     882900888.0\n4          371         1       4     877487440.0\n...        ...       ...     ...             ...\n46842      880       476       3     880175444.0\n46843      716       204       5     879795543.0\n46844      276      1090       1     874795795.0\n46845       13       225       2     882399156.0\n46846       12       203       3     879959583.0\n\n[46847 rows x 4 columns]",
            "text/html": "<div>\n<style scoped>\n    .dataframe tbody tr th:only-of-type {\n        vertical-align: middle;\n    }\n\n    .dataframe tbody tr th {\n        vertical-align: top;\n    }\n\n    .dataframe thead th {\n        text-align: right;\n    }\n</style>\n<table border=\"1\" class=\"dataframe\">\n  <thead>\n    <tr style=\"text-align: right;\">\n      <th></th>\n      <th>user_id</th>\n      <th>movie_id</th>\n      <th>rating</th>\n      <th>unix_timestamp</th>\n    </tr>\n  </thead>\n  <tbody>\n    <tr>\n      <th>0</th>\n      <td>82</td>\n      <td>3</td>\n      <td>5</td>\n      <td>NaN</td>\n    </tr>\n    <tr>\n      <th>1</th>\n      <td>251</td>\n      <td>471</td>\n      <td>3</td>\n      <td>886272319.0</td>\n    </tr>\n    <tr>\n      <th>2</th>\n      <td>566</td>\n      <td>31</td>\n      <td>3</td>\n      <td>881650825.0</td>\n    </tr>\n    <tr>\n      <th>3</th>\n      <td>637</td>\n      <td>338</td>\n      <td>4</td>\n      <td>882900888.0</td>\n    </tr>\n    <tr>\n      <th>4</th>\n      <td>371</td>\n      <td>1</td>\n      <td>4</td>\n      <td>877487440.0</td>\n    </tr>\n    <tr>\n      <th>...</th>\n      <td>...</td>\n      <td>...</td>\n      <td>...</td>\n      <td>...</td>\n    </tr>\n    <tr>\n      <th>46842</th>\n      <td>880</td>\n      <td>476</td>\n      <td>3</td>\n      <td>880175444.0</td>\n    </tr>\n    <tr>\n      <th>46843</th>\n      <td>716</td>\n      <td>204</td>\n      <td>5</td>\n      <td>879795543.0</td>\n    </tr>\n    <tr>\n      <th>46844</th>\n      <td>276</td>\n      <td>1090</td>\n      <td>1</td>\n      <td>874795795.0</td>\n    </tr>\n    <tr>\n      <th>46845</th>\n      <td>13</td>\n      <td>225</td>\n      <td>2</td>\n      <td>882399156.0</td>\n    </tr>\n    <tr>\n      <th>46846</th>\n      <td>12</td>\n      <td>203</td>\n      <td>3</td>\n      <td>879959583.0</td>\n    </tr>\n  </tbody>\n</table>\n<p>46847 rows × 4 columns</p>\n</div>"
          },
          "metadata": {}
        }
      ],
      "execution_count": 71
    },
    {
      "cell_type": "code",
      "source": "nusers = ratings.user_id.unique().shape[0]\nnitems = ratings.movie_id.unique().shape[0]",
      "metadata": {
        "trusted": true
      },
      "outputs": [],
      "execution_count": 72
    },
    {
      "cell_type": "code",
      "source": "print('number of users : ',nusers)\nprint('number of movies : ', nitems)",
      "metadata": {
        "trusted": true
      },
      "outputs": [
        {
          "name": "stdout",
          "text": "number of users :  943\nnumber of movies :  1557\n",
          "output_type": "stream"
        }
      ],
      "execution_count": 73
    },
    {
      "cell_type": "markdown",
      "source": "# Get the list of movies watched by users by grouping user id and movie id",
      "metadata": {}
    },
    {
      "cell_type": "code",
      "source": "df = ratings.groupby('user_id')['movie_id'].apply(list).reset_index(name='movie_id')",
      "metadata": {
        "trusted": true
      },
      "outputs": [],
      "execution_count": 74
    },
    {
      "cell_type": "code",
      "source": "df",
      "metadata": {
        "trusted": true
      },
      "outputs": [
        {
          "execution_count": 75,
          "output_type": "execute_result",
          "data": {
            "text/plain": "     user_id                                           movie_id\n0          1  [127, 16, 79, 261, 45, 48, 25, 251, 195, 153, ...\n1          2  [300, 100, 127, 285, 289, 304, 272, 278, 288, ...\n2          3                     [325, 347, 336, 353, 340, 346]\n3          4                     [324, 359, 362, 358, 360, 301]\n4          5  [450, 235, 169, 431, 121, 374, 365, 189, 446, ...\n..       ...                                                ...\n938      939  [931, 106, 258, 1054, 689, 476, 409, 121, 1190...\n939      940  [193, 568, 14, 205, 272, 655, 315, 66, 873, 28...\n940      941  [147, 124, 117, 181, 993, 258, 7, 475, 257, 15...\n941      942  [117, 200, 604, 423, 261, 427, 487, 323, 615, ...\n942      943  [58, 111, 11, 570, 232, 1067, 808, 356, 186, 2...\n\n[943 rows x 2 columns]",
            "text/html": "<div>\n<style scoped>\n    .dataframe tbody tr th:only-of-type {\n        vertical-align: middle;\n    }\n\n    .dataframe tbody tr th {\n        vertical-align: top;\n    }\n\n    .dataframe thead th {\n        text-align: right;\n    }\n</style>\n<table border=\"1\" class=\"dataframe\">\n  <thead>\n    <tr style=\"text-align: right;\">\n      <th></th>\n      <th>user_id</th>\n      <th>movie_id</th>\n    </tr>\n  </thead>\n  <tbody>\n    <tr>\n      <th>0</th>\n      <td>1</td>\n      <td>[127, 16, 79, 261, 45, 48, 25, 251, 195, 153, ...</td>\n    </tr>\n    <tr>\n      <th>1</th>\n      <td>2</td>\n      <td>[300, 100, 127, 285, 289, 304, 272, 278, 288, ...</td>\n    </tr>\n    <tr>\n      <th>2</th>\n      <td>3</td>\n      <td>[325, 347, 336, 353, 340, 346]</td>\n    </tr>\n    <tr>\n      <th>3</th>\n      <td>4</td>\n      <td>[324, 359, 362, 358, 360, 301]</td>\n    </tr>\n    <tr>\n      <th>4</th>\n      <td>5</td>\n      <td>[450, 235, 169, 431, 121, 374, 365, 189, 446, ...</td>\n    </tr>\n    <tr>\n      <th>...</th>\n      <td>...</td>\n      <td>...</td>\n    </tr>\n    <tr>\n      <th>938</th>\n      <td>939</td>\n      <td>[931, 106, 258, 1054, 689, 476, 409, 121, 1190...</td>\n    </tr>\n    <tr>\n      <th>939</th>\n      <td>940</td>\n      <td>[193, 568, 14, 205, 272, 655, 315, 66, 873, 28...</td>\n    </tr>\n    <tr>\n      <th>940</th>\n      <td>941</td>\n      <td>[147, 124, 117, 181, 993, 258, 7, 475, 257, 15...</td>\n    </tr>\n    <tr>\n      <th>941</th>\n      <td>942</td>\n      <td>[117, 200, 604, 423, 261, 427, 487, 323, 615, ...</td>\n    </tr>\n    <tr>\n      <th>942</th>\n      <td>943</td>\n      <td>[58, 111, 11, 570, 232, 1067, 808, 356, 186, 2...</td>\n    </tr>\n  </tbody>\n</table>\n<p>943 rows × 2 columns</p>\n</div>"
          },
          "metadata": {}
        }
      ],
      "execution_count": 75
    },
    {
      "cell_type": "code",
      "source": "movie_list = df['movie_id'].tolist()",
      "metadata": {
        "trusted": true
      },
      "outputs": [],
      "execution_count": 76
    },
    {
      "cell_type": "markdown",
      "source": "# make a single list for all movie id",
      "metadata": {}
    },
    {
      "cell_type": "code",
      "source": "import itertools\nmovie_single_list=list(itertools.chain.from_iterable(movie_list))\n    ",
      "metadata": {
        "trusted": true
      },
      "outputs": [],
      "execution_count": 78
    },
    {
      "cell_type": "markdown",
      "source": "# count the number of movie id watched by all users",
      "metadata": {}
    },
    {
      "cell_type": "code",
      "source": "from collections import Counter\nmovie_count = Counter(movie_single_list)\nmovie_count\nmovie_dataframe = pd.DataFrame.from_dict(movie_count, orient='index').reset_index()",
      "metadata": {
        "trusted": true
      },
      "outputs": [],
      "execution_count": 79
    },
    {
      "cell_type": "code",
      "source": "\nmovie_data = movie_dataframe.rename(columns={'index':'movie_id', 0:'count'})\nmovie_data",
      "metadata": {
        "trusted": true
      },
      "outputs": [
        {
          "execution_count": 100,
          "output_type": "execute_result",
          "data": {
            "text/plain": "      movie_id  count\n0          127    209\n1           16     20\n2           79    171\n3          261     22\n4           45     42\n...        ...    ...\n1552      1397      1\n1553       600      1\n1554      1344      1\n1555      1370      1\n1556      1377      1\n\n[1557 rows x 2 columns]",
            "text/html": "<div>\n<style scoped>\n    .dataframe tbody tr th:only-of-type {\n        vertical-align: middle;\n    }\n\n    .dataframe tbody tr th {\n        vertical-align: top;\n    }\n\n    .dataframe thead th {\n        text-align: right;\n    }\n</style>\n<table border=\"1\" class=\"dataframe\">\n  <thead>\n    <tr style=\"text-align: right;\">\n      <th></th>\n      <th>movie_id</th>\n      <th>count</th>\n    </tr>\n  </thead>\n  <tbody>\n    <tr>\n      <th>0</th>\n      <td>127</td>\n      <td>209</td>\n    </tr>\n    <tr>\n      <th>1</th>\n      <td>16</td>\n      <td>20</td>\n    </tr>\n    <tr>\n      <th>2</th>\n      <td>79</td>\n      <td>171</td>\n    </tr>\n    <tr>\n      <th>3</th>\n      <td>261</td>\n      <td>22</td>\n    </tr>\n    <tr>\n      <th>4</th>\n      <td>45</td>\n      <td>42</td>\n    </tr>\n    <tr>\n      <th>...</th>\n      <td>...</td>\n      <td>...</td>\n    </tr>\n    <tr>\n      <th>1552</th>\n      <td>1397</td>\n      <td>1</td>\n    </tr>\n    <tr>\n      <th>1553</th>\n      <td>600</td>\n      <td>1</td>\n    </tr>\n    <tr>\n      <th>1554</th>\n      <td>1344</td>\n      <td>1</td>\n    </tr>\n    <tr>\n      <th>1555</th>\n      <td>1370</td>\n      <td>1</td>\n    </tr>\n    <tr>\n      <th>1556</th>\n      <td>1377</td>\n      <td>1</td>\n    </tr>\n  </tbody>\n</table>\n<p>1557 rows × 2 columns</p>\n</div>"
          },
          "metadata": {}
        }
      ],
      "execution_count": 100
    },
    {
      "cell_type": "code",
      "source": "#Read the movie Dataset\ngenres = ['unknown', 'Action', 'Adventure','Animation', 'Children\\'s', 'Comedy', \n          'Crime', 'Documentary', 'Drama', 'Fantasy','Film-Noir', 'Horror', \n          'Musical', 'Mystery', 'Romance', 'Sci-Fi', 'Thriller', 'War', 'Western']\ni_cols = ['movie id', 'movie title','release date','video release date', 'IMDb URL']\nitems = pd.read_csv('user based/u.item', sep='|', names=['movie id', 'movie title','release date','video release date', 'IMDb URL'] + genres,encoding='latin-1')",
      "metadata": {
        "trusted": true
      },
      "outputs": [],
      "execution_count": 81
    },
    {
      "cell_type": "code",
      "source": "items",
      "metadata": {
        "trusted": true
      },
      "outputs": [
        {
          "execution_count": 82,
          "output_type": "execute_result",
          "data": {
            "text/plain": "      movie id                                movie title release date  \\\n0            1                           Toy Story (1995)  01-Jan-1995   \n1            2                           GoldenEye (1995)  01-Jan-1995   \n2            3                          Four Rooms (1995)  01-Jan-1995   \n3            4                          Get Shorty (1995)  01-Jan-1995   \n4            5                             Copycat (1995)  01-Jan-1995   \n...        ...                                        ...          ...   \n1677      1678                          Mat' i syn (1997)  06-Feb-1998   \n1678      1679                           B. Monkey (1998)  06-Feb-1998   \n1679      1680                       Sliding Doors (1998)  01-Jan-1998   \n1680      1681                        You So Crazy (1994)  01-Jan-1994   \n1681      1682  Scream of Stone (Schrei aus Stein) (1991)  08-Mar-1996   \n\n      video release date                                           IMDb URL  \\\n0                    NaN  http://us.imdb.com/M/title-exact?Toy%20Story%2...   \n1                    NaN  http://us.imdb.com/M/title-exact?GoldenEye%20(...   \n2                    NaN  http://us.imdb.com/M/title-exact?Four%20Rooms%...   \n3                    NaN  http://us.imdb.com/M/title-exact?Get%20Shorty%...   \n4                    NaN  http://us.imdb.com/M/title-exact?Copycat%20(1995)   \n...                  ...                                                ...   \n1677                 NaN  http://us.imdb.com/M/title-exact?Mat%27+i+syn+...   \n1678                 NaN  http://us.imdb.com/M/title-exact?B%2E+Monkey+(...   \n1679                 NaN      http://us.imdb.com/Title?Sliding+Doors+(1998)   \n1680                 NaN  http://us.imdb.com/M/title-exact?You%20So%20Cr...   \n1681                 NaN  http://us.imdb.com/M/title-exact?Schrei%20aus%...   \n\n      unknown  Action  Adventure  Animation  Children's  ...  Fantasy  \\\n0           0       0          0          1           1  ...        0   \n1           0       1          1          0           0  ...        0   \n2           0       0          0          0           0  ...        0   \n3           0       1          0          0           0  ...        0   \n4           0       0          0          0           0  ...        0   \n...       ...     ...        ...        ...         ...  ...      ...   \n1677        0       0          0          0           0  ...        0   \n1678        0       0          0          0           0  ...        0   \n1679        0       0          0          0           0  ...        0   \n1680        0       0          0          0           0  ...        0   \n1681        0       0          0          0           0  ...        0   \n\n      Film-Noir  Horror  Musical  Mystery  Romance  Sci-Fi  Thriller  War  \\\n0             0       0        0        0        0       0         0    0   \n1             0       0        0        0        0       0         1    0   \n2             0       0        0        0        0       0         1    0   \n3             0       0        0        0        0       0         0    0   \n4             0       0        0        0        0       0         1    0   \n...         ...     ...      ...      ...      ...     ...       ...  ...   \n1677          0       0        0        0        0       0         0    0   \n1678          0       0        0        0        1       0         1    0   \n1679          0       0        0        0        1       0         0    0   \n1680          0       0        0        0        0       0         0    0   \n1681          0       0        0        0        0       0         0    0   \n\n      Western  \n0           0  \n1           0  \n2           0  \n3           0  \n4           0  \n...       ...  \n1677        0  \n1678        0  \n1679        0  \n1680        0  \n1681        0  \n\n[1682 rows x 24 columns]",
            "text/html": "<div>\n<style scoped>\n    .dataframe tbody tr th:only-of-type {\n        vertical-align: middle;\n    }\n\n    .dataframe tbody tr th {\n        vertical-align: top;\n    }\n\n    .dataframe thead th {\n        text-align: right;\n    }\n</style>\n<table border=\"1\" class=\"dataframe\">\n  <thead>\n    <tr style=\"text-align: right;\">\n      <th></th>\n      <th>movie id</th>\n      <th>movie title</th>\n      <th>release date</th>\n      <th>video release date</th>\n      <th>IMDb URL</th>\n      <th>unknown</th>\n      <th>Action</th>\n      <th>Adventure</th>\n      <th>Animation</th>\n      <th>Children's</th>\n      <th>...</th>\n      <th>Fantasy</th>\n      <th>Film-Noir</th>\n      <th>Horror</th>\n      <th>Musical</th>\n      <th>Mystery</th>\n      <th>Romance</th>\n      <th>Sci-Fi</th>\n      <th>Thriller</th>\n      <th>War</th>\n      <th>Western</th>\n    </tr>\n  </thead>\n  <tbody>\n    <tr>\n      <th>0</th>\n      <td>1</td>\n      <td>Toy Story (1995)</td>\n      <td>01-Jan-1995</td>\n      <td>NaN</td>\n      <td>http://us.imdb.com/M/title-exact?Toy%20Story%2...</td>\n      <td>0</td>\n      <td>0</td>\n      <td>0</td>\n      <td>1</td>\n      <td>1</td>\n      <td>...</td>\n      <td>0</td>\n      <td>0</td>\n      <td>0</td>\n      <td>0</td>\n      <td>0</td>\n      <td>0</td>\n      <td>0</td>\n      <td>0</td>\n      <td>0</td>\n      <td>0</td>\n    </tr>\n    <tr>\n      <th>1</th>\n      <td>2</td>\n      <td>GoldenEye (1995)</td>\n      <td>01-Jan-1995</td>\n      <td>NaN</td>\n      <td>http://us.imdb.com/M/title-exact?GoldenEye%20(...</td>\n      <td>0</td>\n      <td>1</td>\n      <td>1</td>\n      <td>0</td>\n      <td>0</td>\n      <td>...</td>\n      <td>0</td>\n      <td>0</td>\n      <td>0</td>\n      <td>0</td>\n      <td>0</td>\n      <td>0</td>\n      <td>0</td>\n      <td>1</td>\n      <td>0</td>\n      <td>0</td>\n    </tr>\n    <tr>\n      <th>2</th>\n      <td>3</td>\n      <td>Four Rooms (1995)</td>\n      <td>01-Jan-1995</td>\n      <td>NaN</td>\n      <td>http://us.imdb.com/M/title-exact?Four%20Rooms%...</td>\n      <td>0</td>\n      <td>0</td>\n      <td>0</td>\n      <td>0</td>\n      <td>0</td>\n      <td>...</td>\n      <td>0</td>\n      <td>0</td>\n      <td>0</td>\n      <td>0</td>\n      <td>0</td>\n      <td>0</td>\n      <td>0</td>\n      <td>1</td>\n      <td>0</td>\n      <td>0</td>\n    </tr>\n    <tr>\n      <th>3</th>\n      <td>4</td>\n      <td>Get Shorty (1995)</td>\n      <td>01-Jan-1995</td>\n      <td>NaN</td>\n      <td>http://us.imdb.com/M/title-exact?Get%20Shorty%...</td>\n      <td>0</td>\n      <td>1</td>\n      <td>0</td>\n      <td>0</td>\n      <td>0</td>\n      <td>...</td>\n      <td>0</td>\n      <td>0</td>\n      <td>0</td>\n      <td>0</td>\n      <td>0</td>\n      <td>0</td>\n      <td>0</td>\n      <td>0</td>\n      <td>0</td>\n      <td>0</td>\n    </tr>\n    <tr>\n      <th>4</th>\n      <td>5</td>\n      <td>Copycat (1995)</td>\n      <td>01-Jan-1995</td>\n      <td>NaN</td>\n      <td>http://us.imdb.com/M/title-exact?Copycat%20(1995)</td>\n      <td>0</td>\n      <td>0</td>\n      <td>0</td>\n      <td>0</td>\n      <td>0</td>\n      <td>...</td>\n      <td>0</td>\n      <td>0</td>\n      <td>0</td>\n      <td>0</td>\n      <td>0</td>\n      <td>0</td>\n      <td>0</td>\n      <td>1</td>\n      <td>0</td>\n      <td>0</td>\n    </tr>\n    <tr>\n      <th>...</th>\n      <td>...</td>\n      <td>...</td>\n      <td>...</td>\n      <td>...</td>\n      <td>...</td>\n      <td>...</td>\n      <td>...</td>\n      <td>...</td>\n      <td>...</td>\n      <td>...</td>\n      <td>...</td>\n      <td>...</td>\n      <td>...</td>\n      <td>...</td>\n      <td>...</td>\n      <td>...</td>\n      <td>...</td>\n      <td>...</td>\n      <td>...</td>\n      <td>...</td>\n      <td>...</td>\n    </tr>\n    <tr>\n      <th>1677</th>\n      <td>1678</td>\n      <td>Mat' i syn (1997)</td>\n      <td>06-Feb-1998</td>\n      <td>NaN</td>\n      <td>http://us.imdb.com/M/title-exact?Mat%27+i+syn+...</td>\n      <td>0</td>\n      <td>0</td>\n      <td>0</td>\n      <td>0</td>\n      <td>0</td>\n      <td>...</td>\n      <td>0</td>\n      <td>0</td>\n      <td>0</td>\n      <td>0</td>\n      <td>0</td>\n      <td>0</td>\n      <td>0</td>\n      <td>0</td>\n      <td>0</td>\n      <td>0</td>\n    </tr>\n    <tr>\n      <th>1678</th>\n      <td>1679</td>\n      <td>B. Monkey (1998)</td>\n      <td>06-Feb-1998</td>\n      <td>NaN</td>\n      <td>http://us.imdb.com/M/title-exact?B%2E+Monkey+(...</td>\n      <td>0</td>\n      <td>0</td>\n      <td>0</td>\n      <td>0</td>\n      <td>0</td>\n      <td>...</td>\n      <td>0</td>\n      <td>0</td>\n      <td>0</td>\n      <td>0</td>\n      <td>0</td>\n      <td>1</td>\n      <td>0</td>\n      <td>1</td>\n      <td>0</td>\n      <td>0</td>\n    </tr>\n    <tr>\n      <th>1679</th>\n      <td>1680</td>\n      <td>Sliding Doors (1998)</td>\n      <td>01-Jan-1998</td>\n      <td>NaN</td>\n      <td>http://us.imdb.com/Title?Sliding+Doors+(1998)</td>\n      <td>0</td>\n      <td>0</td>\n      <td>0</td>\n      <td>0</td>\n      <td>0</td>\n      <td>...</td>\n      <td>0</td>\n      <td>0</td>\n      <td>0</td>\n      <td>0</td>\n      <td>0</td>\n      <td>1</td>\n      <td>0</td>\n      <td>0</td>\n      <td>0</td>\n      <td>0</td>\n    </tr>\n    <tr>\n      <th>1680</th>\n      <td>1681</td>\n      <td>You So Crazy (1994)</td>\n      <td>01-Jan-1994</td>\n      <td>NaN</td>\n      <td>http://us.imdb.com/M/title-exact?You%20So%20Cr...</td>\n      <td>0</td>\n      <td>0</td>\n      <td>0</td>\n      <td>0</td>\n      <td>0</td>\n      <td>...</td>\n      <td>0</td>\n      <td>0</td>\n      <td>0</td>\n      <td>0</td>\n      <td>0</td>\n      <td>0</td>\n      <td>0</td>\n      <td>0</td>\n      <td>0</td>\n      <td>0</td>\n    </tr>\n    <tr>\n      <th>1681</th>\n      <td>1682</td>\n      <td>Scream of Stone (Schrei aus Stein) (1991)</td>\n      <td>08-Mar-1996</td>\n      <td>NaN</td>\n      <td>http://us.imdb.com/M/title-exact?Schrei%20aus%...</td>\n      <td>0</td>\n      <td>0</td>\n      <td>0</td>\n      <td>0</td>\n      <td>0</td>\n      <td>...</td>\n      <td>0</td>\n      <td>0</td>\n      <td>0</td>\n      <td>0</td>\n      <td>0</td>\n      <td>0</td>\n      <td>0</td>\n      <td>0</td>\n      <td>0</td>\n      <td>0</td>\n    </tr>\n  </tbody>\n</table>\n<p>1682 rows × 24 columns</p>\n</div>"
          },
          "metadata": {}
        }
      ],
      "execution_count": 82
    },
    {
      "cell_type": "code",
      "source": "movie_with_genre = items[['movie id','unknown', 'Action', 'Adventure','Animation', 'Children\\'s', 'Comedy', \n          'Crime', 'Documentary', 'Drama', 'Fantasy','Film-Noir', 'Horror', \n          'Musical', 'Mystery', 'Romance', 'Sci-Fi', 'Thriller', 'War', 'Western']]\nmovie_with_genre = pd.DataFrame(movie_with_genre)\n",
      "metadata": {
        "trusted": true
      },
      "outputs": [],
      "execution_count": 83
    },
    {
      "cell_type": "code",
      "source": "movie_with_genre = pd.DataFrame(movie_with_genre)",
      "metadata": {
        "trusted": true
      },
      "outputs": [],
      "execution_count": 84
    },
    {
      "cell_type": "code",
      "source": "movie_with_genre",
      "metadata": {
        "trusted": true
      },
      "outputs": [
        {
          "execution_count": 85,
          "output_type": "execute_result",
          "data": {
            "text/plain": "      movie id  unknown  Action  Adventure  Animation  Children's  Comedy  \\\n0            1        0       0          0          1           1       1   \n1            2        0       1          1          0           0       0   \n2            3        0       0          0          0           0       0   \n3            4        0       1          0          0           0       1   \n4            5        0       0          0          0           0       0   \n...        ...      ...     ...        ...        ...         ...     ...   \n1677      1678        0       0          0          0           0       0   \n1678      1679        0       0          0          0           0       0   \n1679      1680        0       0          0          0           0       0   \n1680      1681        0       0          0          0           0       1   \n1681      1682        0       0          0          0           0       0   \n\n      Crime  Documentary  Drama  Fantasy  Film-Noir  Horror  Musical  Mystery  \\\n0         0            0      0        0          0       0        0        0   \n1         0            0      0        0          0       0        0        0   \n2         0            0      0        0          0       0        0        0   \n3         0            0      1        0          0       0        0        0   \n4         1            0      1        0          0       0        0        0   \n...     ...          ...    ...      ...        ...     ...      ...      ...   \n1677      0            0      1        0          0       0        0        0   \n1678      0            0      0        0          0       0        0        0   \n1679      0            0      1        0          0       0        0        0   \n1680      0            0      0        0          0       0        0        0   \n1681      0            0      1        0          0       0        0        0   \n\n      Romance  Sci-Fi  Thriller  War  Western  \n0           0       0         0    0        0  \n1           0       0         1    0        0  \n2           0       0         1    0        0  \n3           0       0         0    0        0  \n4           0       0         1    0        0  \n...       ...     ...       ...  ...      ...  \n1677        0       0         0    0        0  \n1678        1       0         1    0        0  \n1679        1       0         0    0        0  \n1680        0       0         0    0        0  \n1681        0       0         0    0        0  \n\n[1682 rows x 20 columns]",
            "text/html": "<div>\n<style scoped>\n    .dataframe tbody tr th:only-of-type {\n        vertical-align: middle;\n    }\n\n    .dataframe tbody tr th {\n        vertical-align: top;\n    }\n\n    .dataframe thead th {\n        text-align: right;\n    }\n</style>\n<table border=\"1\" class=\"dataframe\">\n  <thead>\n    <tr style=\"text-align: right;\">\n      <th></th>\n      <th>movie id</th>\n      <th>unknown</th>\n      <th>Action</th>\n      <th>Adventure</th>\n      <th>Animation</th>\n      <th>Children's</th>\n      <th>Comedy</th>\n      <th>Crime</th>\n      <th>Documentary</th>\n      <th>Drama</th>\n      <th>Fantasy</th>\n      <th>Film-Noir</th>\n      <th>Horror</th>\n      <th>Musical</th>\n      <th>Mystery</th>\n      <th>Romance</th>\n      <th>Sci-Fi</th>\n      <th>Thriller</th>\n      <th>War</th>\n      <th>Western</th>\n    </tr>\n  </thead>\n  <tbody>\n    <tr>\n      <th>0</th>\n      <td>1</td>\n      <td>0</td>\n      <td>0</td>\n      <td>0</td>\n      <td>1</td>\n      <td>1</td>\n      <td>1</td>\n      <td>0</td>\n      <td>0</td>\n      <td>0</td>\n      <td>0</td>\n      <td>0</td>\n      <td>0</td>\n      <td>0</td>\n      <td>0</td>\n      <td>0</td>\n      <td>0</td>\n      <td>0</td>\n      <td>0</td>\n      <td>0</td>\n    </tr>\n    <tr>\n      <th>1</th>\n      <td>2</td>\n      <td>0</td>\n      <td>1</td>\n      <td>1</td>\n      <td>0</td>\n      <td>0</td>\n      <td>0</td>\n      <td>0</td>\n      <td>0</td>\n      <td>0</td>\n      <td>0</td>\n      <td>0</td>\n      <td>0</td>\n      <td>0</td>\n      <td>0</td>\n      <td>0</td>\n      <td>0</td>\n      <td>1</td>\n      <td>0</td>\n      <td>0</td>\n    </tr>\n    <tr>\n      <th>2</th>\n      <td>3</td>\n      <td>0</td>\n      <td>0</td>\n      <td>0</td>\n      <td>0</td>\n      <td>0</td>\n      <td>0</td>\n      <td>0</td>\n      <td>0</td>\n      <td>0</td>\n      <td>0</td>\n      <td>0</td>\n      <td>0</td>\n      <td>0</td>\n      <td>0</td>\n      <td>0</td>\n      <td>0</td>\n      <td>1</td>\n      <td>0</td>\n      <td>0</td>\n    </tr>\n    <tr>\n      <th>3</th>\n      <td>4</td>\n      <td>0</td>\n      <td>1</td>\n      <td>0</td>\n      <td>0</td>\n      <td>0</td>\n      <td>1</td>\n      <td>0</td>\n      <td>0</td>\n      <td>1</td>\n      <td>0</td>\n      <td>0</td>\n      <td>0</td>\n      <td>0</td>\n      <td>0</td>\n      <td>0</td>\n      <td>0</td>\n      <td>0</td>\n      <td>0</td>\n      <td>0</td>\n    </tr>\n    <tr>\n      <th>4</th>\n      <td>5</td>\n      <td>0</td>\n      <td>0</td>\n      <td>0</td>\n      <td>0</td>\n      <td>0</td>\n      <td>0</td>\n      <td>1</td>\n      <td>0</td>\n      <td>1</td>\n      <td>0</td>\n      <td>0</td>\n      <td>0</td>\n      <td>0</td>\n      <td>0</td>\n      <td>0</td>\n      <td>0</td>\n      <td>1</td>\n      <td>0</td>\n      <td>0</td>\n    </tr>\n    <tr>\n      <th>...</th>\n      <td>...</td>\n      <td>...</td>\n      <td>...</td>\n      <td>...</td>\n      <td>...</td>\n      <td>...</td>\n      <td>...</td>\n      <td>...</td>\n      <td>...</td>\n      <td>...</td>\n      <td>...</td>\n      <td>...</td>\n      <td>...</td>\n      <td>...</td>\n      <td>...</td>\n      <td>...</td>\n      <td>...</td>\n      <td>...</td>\n      <td>...</td>\n      <td>...</td>\n    </tr>\n    <tr>\n      <th>1677</th>\n      <td>1678</td>\n      <td>0</td>\n      <td>0</td>\n      <td>0</td>\n      <td>0</td>\n      <td>0</td>\n      <td>0</td>\n      <td>0</td>\n      <td>0</td>\n      <td>1</td>\n      <td>0</td>\n      <td>0</td>\n      <td>0</td>\n      <td>0</td>\n      <td>0</td>\n      <td>0</td>\n      <td>0</td>\n      <td>0</td>\n      <td>0</td>\n      <td>0</td>\n    </tr>\n    <tr>\n      <th>1678</th>\n      <td>1679</td>\n      <td>0</td>\n      <td>0</td>\n      <td>0</td>\n      <td>0</td>\n      <td>0</td>\n      <td>0</td>\n      <td>0</td>\n      <td>0</td>\n      <td>0</td>\n      <td>0</td>\n      <td>0</td>\n      <td>0</td>\n      <td>0</td>\n      <td>0</td>\n      <td>1</td>\n      <td>0</td>\n      <td>1</td>\n      <td>0</td>\n      <td>0</td>\n    </tr>\n    <tr>\n      <th>1679</th>\n      <td>1680</td>\n      <td>0</td>\n      <td>0</td>\n      <td>0</td>\n      <td>0</td>\n      <td>0</td>\n      <td>0</td>\n      <td>0</td>\n      <td>0</td>\n      <td>1</td>\n      <td>0</td>\n      <td>0</td>\n      <td>0</td>\n      <td>0</td>\n      <td>0</td>\n      <td>1</td>\n      <td>0</td>\n      <td>0</td>\n      <td>0</td>\n      <td>0</td>\n    </tr>\n    <tr>\n      <th>1680</th>\n      <td>1681</td>\n      <td>0</td>\n      <td>0</td>\n      <td>0</td>\n      <td>0</td>\n      <td>0</td>\n      <td>1</td>\n      <td>0</td>\n      <td>0</td>\n      <td>0</td>\n      <td>0</td>\n      <td>0</td>\n      <td>0</td>\n      <td>0</td>\n      <td>0</td>\n      <td>0</td>\n      <td>0</td>\n      <td>0</td>\n      <td>0</td>\n      <td>0</td>\n    </tr>\n    <tr>\n      <th>1681</th>\n      <td>1682</td>\n      <td>0</td>\n      <td>0</td>\n      <td>0</td>\n      <td>0</td>\n      <td>0</td>\n      <td>0</td>\n      <td>0</td>\n      <td>0</td>\n      <td>1</td>\n      <td>0</td>\n      <td>0</td>\n      <td>0</td>\n      <td>0</td>\n      <td>0</td>\n      <td>0</td>\n      <td>0</td>\n      <td>0</td>\n      <td>0</td>\n      <td>0</td>\n    </tr>\n  </tbody>\n</table>\n<p>1682 rows × 20 columns</p>\n</div>"
          },
          "metadata": {}
        }
      ],
      "execution_count": 85
    },
    {
      "cell_type": "code",
      "source": "movie_with_genre.set_index(['movie id'], inplace=True)",
      "metadata": {
        "trusted": true
      },
      "outputs": [],
      "execution_count": 86
    },
    {
      "cell_type": "code",
      "source": "movie_genres = dict(\n    list(\n        movie_with_genre.groupby(movie_with_genre.index)\n    )\n)",
      "metadata": {
        "trusted": true
      },
      "outputs": [],
      "execution_count": 87
    },
    {
      "cell_type": "markdown",
      "source": "# Add genre column to the movie list",
      "metadata": {}
    },
    {
      "cell_type": "code",
      "source": "movie_genre_list =[]\nfor k, v in movie_genres.items():               # k: name of index, v: is a df\n    check = v.columns[(v == 1).any()]\n    if len(check) > 0:\n        movie_genre_list.append((k, check.to_list()))\n        #print((k, check.to_list()))",
      "metadata": {
        "trusted": true
      },
      "outputs": [],
      "execution_count": 88
    },
    {
      "cell_type": "code",
      "source": "#movie_genre_list",
      "metadata": {
        "trusted": true
      },
      "outputs": [],
      "execution_count": 89
    },
    {
      "cell_type": "code",
      "source": "movie_genre = pd.DataFrame(movie_genre_list, columns=['movie_id', 'genre'])",
      "metadata": {
        "trusted": true
      },
      "outputs": [],
      "execution_count": 90
    },
    {
      "cell_type": "code",
      "source": "movie_genre",
      "metadata": {
        "trusted": true
      },
      "outputs": [
        {
          "execution_count": 91,
          "output_type": "execute_result",
          "data": {
            "text/plain": "      movie_id                            genre\n0            1  [Animation, Children's, Comedy]\n1            2    [Action, Adventure, Thriller]\n2            3                       [Thriller]\n3            4          [Action, Comedy, Drama]\n4            5         [Crime, Drama, Thriller]\n...        ...                              ...\n1677      1678                          [Drama]\n1678      1679              [Romance, Thriller]\n1679      1680                 [Drama, Romance]\n1680      1681                         [Comedy]\n1681      1682                          [Drama]\n\n[1682 rows x 2 columns]",
            "text/html": "<div>\n<style scoped>\n    .dataframe tbody tr th:only-of-type {\n        vertical-align: middle;\n    }\n\n    .dataframe tbody tr th {\n        vertical-align: top;\n    }\n\n    .dataframe thead th {\n        text-align: right;\n    }\n</style>\n<table border=\"1\" class=\"dataframe\">\n  <thead>\n    <tr style=\"text-align: right;\">\n      <th></th>\n      <th>movie_id</th>\n      <th>genre</th>\n    </tr>\n  </thead>\n  <tbody>\n    <tr>\n      <th>0</th>\n      <td>1</td>\n      <td>[Animation, Children's, Comedy]</td>\n    </tr>\n    <tr>\n      <th>1</th>\n      <td>2</td>\n      <td>[Action, Adventure, Thriller]</td>\n    </tr>\n    <tr>\n      <th>2</th>\n      <td>3</td>\n      <td>[Thriller]</td>\n    </tr>\n    <tr>\n      <th>3</th>\n      <td>4</td>\n      <td>[Action, Comedy, Drama]</td>\n    </tr>\n    <tr>\n      <th>4</th>\n      <td>5</td>\n      <td>[Crime, Drama, Thriller]</td>\n    </tr>\n    <tr>\n      <th>...</th>\n      <td>...</td>\n      <td>...</td>\n    </tr>\n    <tr>\n      <th>1677</th>\n      <td>1678</td>\n      <td>[Drama]</td>\n    </tr>\n    <tr>\n      <th>1678</th>\n      <td>1679</td>\n      <td>[Romance, Thriller]</td>\n    </tr>\n    <tr>\n      <th>1679</th>\n      <td>1680</td>\n      <td>[Drama, Romance]</td>\n    </tr>\n    <tr>\n      <th>1680</th>\n      <td>1681</td>\n      <td>[Comedy]</td>\n    </tr>\n    <tr>\n      <th>1681</th>\n      <td>1682</td>\n      <td>[Drama]</td>\n    </tr>\n  </tbody>\n</table>\n<p>1682 rows × 2 columns</p>\n</div>"
          },
          "metadata": {}
        }
      ],
      "execution_count": 91
    },
    {
      "cell_type": "code",
      "source": "# movie_with_several_genres = []\n# for _,movie in items.iterrows():\n#     if movie[genres].sum() == 1:\n#         movie_with_several_genres.append(movie['movie title'])#movie[genres])\n        ",
      "metadata": {
        "trusted": true
      },
      "outputs": [],
      "execution_count": 92
    },
    {
      "cell_type": "markdown",
      "source": "# Combine movie data and movie genre dataframe",
      "metadata": {}
    },
    {
      "cell_type": "code",
      "source": "movie_merged = pd.merge(\n   movie_data, movie_genre, how=\"inner\", left_on=['movie_id'], right_on=['movie_id'])\n",
      "metadata": {
        "trusted": true
      },
      "outputs": [],
      "execution_count": 93
    },
    {
      "cell_type": "code",
      "source": "movie_merged1 = pd.merge(movie_merged,items,how = 'inner',left_on=['movie_id'], right_on=['movie id'])",
      "metadata": {
        "trusted": true
      },
      "outputs": [],
      "execution_count": 94
    },
    {
      "cell_type": "code",
      "source": "all_movie_data = movie_merged1[['movie_id','count','movie title' ,'genre']]",
      "metadata": {
        "trusted": true
      },
      "outputs": [],
      "execution_count": 95
    },
    {
      "cell_type": "markdown",
      "source": "# convert the list of genre to multiple rows",
      "metadata": {}
    },
    {
      "cell_type": "code",
      "source": "all_movie_data = all_movie_data.explode('genre')",
      "metadata": {
        "trusted": true
      },
      "outputs": [],
      "execution_count": 96
    },
    {
      "cell_type": "code",
      "source": "all_movies_data = pd.merge(all_movie_data,ratings,how = 'inner',left_on=['movie_id'], right_on=['movie_id'])\nall_movies_data= all_movies_data[['movie_id','count','movie title','genre','rating']]",
      "metadata": {
        "trusted": true
      },
      "outputs": [],
      "execution_count": 97
    },
    {
      "cell_type": "code",
      "source": "all_movies_data = all_movies_data.drop_duplicates()",
      "metadata": {
        "trusted": true
      },
      "outputs": [],
      "execution_count": 98
    },
    {
      "cell_type": "code",
      "source": "all_movies_data",
      "metadata": {
        "trusted": true
      },
      "outputs": [
        {
          "execution_count": 57,
          "output_type": "execute_result",
          "data": {
            "text/plain": "        movie_id  count                              movie title     genre  \\\n0            127    209                    Godfather, The (1972)    Action   \n2            127    209                    Godfather, The (1972)    Action   \n8            127    209                    Godfather, The (1972)    Action   \n47           127    209                    Godfather, The (1972)    Action   \n57           127    209                    Godfather, The (1972)    Action   \n...          ...    ...                                      ...       ...   \n100359      1344      1             Story of Xinghua, The (1993)     Drama   \n100360      1370      1  I Can't Sleep (J'ai pas sommeil) (1994)     Drama   \n100361      1370      1  I Can't Sleep (J'ai pas sommeil) (1994)  Thriller   \n100362      1377      1                     Hotel de Love (1996)    Comedy   \n100363      1377      1                     Hotel de Love (1996)   Romance   \n\n        rating  \n0            4  \n2            5  \n8            3  \n47           1  \n57           2  \n...        ...  \n100359       5  \n100360       4  \n100361       4  \n100362       5  \n100363       5  \n\n[10491 rows x 5 columns]",
            "text/html": "<div>\n<style scoped>\n    .dataframe tbody tr th:only-of-type {\n        vertical-align: middle;\n    }\n\n    .dataframe tbody tr th {\n        vertical-align: top;\n    }\n\n    .dataframe thead th {\n        text-align: right;\n    }\n</style>\n<table border=\"1\" class=\"dataframe\">\n  <thead>\n    <tr style=\"text-align: right;\">\n      <th></th>\n      <th>movie_id</th>\n      <th>count</th>\n      <th>movie title</th>\n      <th>genre</th>\n      <th>rating</th>\n    </tr>\n  </thead>\n  <tbody>\n    <tr>\n      <th>0</th>\n      <td>127</td>\n      <td>209</td>\n      <td>Godfather, The (1972)</td>\n      <td>Action</td>\n      <td>4</td>\n    </tr>\n    <tr>\n      <th>2</th>\n      <td>127</td>\n      <td>209</td>\n      <td>Godfather, The (1972)</td>\n      <td>Action</td>\n      <td>5</td>\n    </tr>\n    <tr>\n      <th>8</th>\n      <td>127</td>\n      <td>209</td>\n      <td>Godfather, The (1972)</td>\n      <td>Action</td>\n      <td>3</td>\n    </tr>\n    <tr>\n      <th>47</th>\n      <td>127</td>\n      <td>209</td>\n      <td>Godfather, The (1972)</td>\n      <td>Action</td>\n      <td>1</td>\n    </tr>\n    <tr>\n      <th>57</th>\n      <td>127</td>\n      <td>209</td>\n      <td>Godfather, The (1972)</td>\n      <td>Action</td>\n      <td>2</td>\n    </tr>\n    <tr>\n      <th>...</th>\n      <td>...</td>\n      <td>...</td>\n      <td>...</td>\n      <td>...</td>\n      <td>...</td>\n    </tr>\n    <tr>\n      <th>100359</th>\n      <td>1344</td>\n      <td>1</td>\n      <td>Story of Xinghua, The (1993)</td>\n      <td>Drama</td>\n      <td>5</td>\n    </tr>\n    <tr>\n      <th>100360</th>\n      <td>1370</td>\n      <td>1</td>\n      <td>I Can't Sleep (J'ai pas sommeil) (1994)</td>\n      <td>Drama</td>\n      <td>4</td>\n    </tr>\n    <tr>\n      <th>100361</th>\n      <td>1370</td>\n      <td>1</td>\n      <td>I Can't Sleep (J'ai pas sommeil) (1994)</td>\n      <td>Thriller</td>\n      <td>4</td>\n    </tr>\n    <tr>\n      <th>100362</th>\n      <td>1377</td>\n      <td>1</td>\n      <td>Hotel de Love (1996)</td>\n      <td>Comedy</td>\n      <td>5</td>\n    </tr>\n    <tr>\n      <th>100363</th>\n      <td>1377</td>\n      <td>1</td>\n      <td>Hotel de Love (1996)</td>\n      <td>Romance</td>\n      <td>5</td>\n    </tr>\n  </tbody>\n</table>\n<p>10491 rows × 5 columns</p>\n</div>"
          },
          "metadata": {}
        }
      ],
      "execution_count": 57
    },
    {
      "cell_type": "markdown",
      "source": "group by movie id, count, movie title and genre",
      "metadata": {}
    },
    {
      "cell_type": "code",
      "source": "all_movies_data_rating = all_movies_data.groupby(['movie_id', 'count','movie title','genre'])['rating'].mean().reset_index()",
      "metadata": {
        "trusted": true
      },
      "outputs": [],
      "execution_count": 58
    },
    {
      "cell_type": "markdown",
      "source": "group by genre and movie title to get the number of times the movie id have appeared",
      "metadata": {}
    },
    {
      "cell_type": "code",
      "source": "all_movies_genre_group = all_movies_data_rating.groupby(['genre','movie title'])['count'].sum()\n",
      "metadata": {
        "trusted": true
      },
      "outputs": [],
      "execution_count": 64
    },
    {
      "cell_type": "code",
      "source": "all_movies_genre_group",
      "metadata": {
        "trusted": true
      },
      "outputs": [
        {
          "execution_count": 65,
          "output_type": "execute_result",
          "data": {
            "text/plain": "genre    movie title                                \nAction   3 Ninjas: High Noon At Mega Mountain (1998)      1\n         Abyss, The (1989)                               66\n         Adventures of Robin Hood, The (1938)            26\n         African Queen, The (1951)                       75\n         Air Force One (1997)                           213\n                                                       ... \nWestern  Wild Bunch, The (1969)                          22\n         Wyatt Earp (1994)                               28\n         Young Guns (1988)                               54\n         Young Guns II (1990)                            21\nunknown  unknown                                          2\nName: count, Length: 2690, dtype: int64"
          },
          "metadata": {}
        }
      ],
      "execution_count": 65
    },
    {
      "cell_type": "code",
      "source": "result = all_movies_genre_group.to_frame().reset_index()#.drop('level_2', axis=1)\nprint(result)",
      "metadata": {
        "trusted": true
      },
      "outputs": [
        {
          "name": "stdout",
          "text": "        genre                                  movie title  count\n0      Action  3 Ninjas: High Noon At Mega Mountain (1998)      1\n1      Action                            Abyss, The (1989)     66\n2      Action         Adventures of Robin Hood, The (1938)     26\n3      Action                    African Queen, The (1951)     75\n4      Action                         Air Force One (1997)    213\n...       ...                                          ...    ...\n2685  Western                       Wild Bunch, The (1969)     22\n2686  Western                            Wyatt Earp (1994)     28\n2687  Western                            Young Guns (1988)     54\n2688  Western                         Young Guns II (1990)     21\n2689  unknown                                      unknown      2\n\n[2690 rows x 3 columns]\n",
          "output_type": "stream"
        }
      ],
      "execution_count": 62
    },
    {
      "cell_type": "markdown",
      "source": "display the top5 movies for each category based on the number of times the user watched",
      "metadata": {}
    },
    {
      "cell_type": "code",
      "source": "df1 = result.sort_values('count',ascending = False).groupby(['genre']).head(5)\n#print (df1)\ntop5_category = pd.DataFrame(df1)\ntop5_category.sort_values(by=['genre', 'count'])",
      "metadata": {
        "trusted": true
      },
      "outputs": [
        {
          "execution_count": 66,
          "output_type": "execute_result",
          "data": {
            "text/plain": "        genre                                movie title  count\n92     Action                      Godfather, The (1972)    209\n4      Action                       Air Force One (1997)    213\n111    Action              Independence Day (ID4) (1996)    222\n173    Action                  Return of the Jedi (1983)    248\n198    Action                           Star Wars (1977)    282\n...       ...                                        ...    ...\n2672  Western     Good, The Bad and The Ugly, The (1966)     62\n2683  Western                          Unforgiven (1992)     77\n2666  Western  Butch Cassidy and the Sundance Kid (1969)     96\n2668  Western                  Dances with Wolves (1990)    117\n2689  unknown                                    unknown      2\n\n[91 rows x 3 columns]",
            "text/html": "<div>\n<style scoped>\n    .dataframe tbody tr th:only-of-type {\n        vertical-align: middle;\n    }\n\n    .dataframe tbody tr th {\n        vertical-align: top;\n    }\n\n    .dataframe thead th {\n        text-align: right;\n    }\n</style>\n<table border=\"1\" class=\"dataframe\">\n  <thead>\n    <tr style=\"text-align: right;\">\n      <th></th>\n      <th>genre</th>\n      <th>movie title</th>\n      <th>count</th>\n    </tr>\n  </thead>\n  <tbody>\n    <tr>\n      <th>92</th>\n      <td>Action</td>\n      <td>Godfather, The (1972)</td>\n      <td>209</td>\n    </tr>\n    <tr>\n      <th>4</th>\n      <td>Action</td>\n      <td>Air Force One (1997)</td>\n      <td>213</td>\n    </tr>\n    <tr>\n      <th>111</th>\n      <td>Action</td>\n      <td>Independence Day (ID4) (1996)</td>\n      <td>222</td>\n    </tr>\n    <tr>\n      <th>173</th>\n      <td>Action</td>\n      <td>Return of the Jedi (1983)</td>\n      <td>248</td>\n    </tr>\n    <tr>\n      <th>198</th>\n      <td>Action</td>\n      <td>Star Wars (1977)</td>\n      <td>282</td>\n    </tr>\n    <tr>\n      <th>...</th>\n      <td>...</td>\n      <td>...</td>\n      <td>...</td>\n    </tr>\n    <tr>\n      <th>2672</th>\n      <td>Western</td>\n      <td>Good, The Bad and The Ugly, The (1966)</td>\n      <td>62</td>\n    </tr>\n    <tr>\n      <th>2683</th>\n      <td>Western</td>\n      <td>Unforgiven (1992)</td>\n      <td>77</td>\n    </tr>\n    <tr>\n      <th>2666</th>\n      <td>Western</td>\n      <td>Butch Cassidy and the Sundance Kid (1969)</td>\n      <td>96</td>\n    </tr>\n    <tr>\n      <th>2668</th>\n      <td>Western</td>\n      <td>Dances with Wolves (1990)</td>\n      <td>117</td>\n    </tr>\n    <tr>\n      <th>2689</th>\n      <td>unknown</td>\n      <td>unknown</td>\n      <td>2</td>\n    </tr>\n  </tbody>\n</table>\n<p>91 rows × 3 columns</p>\n</div>"
          },
          "metadata": {}
        }
      ],
      "execution_count": 66
    },
    {
      "cell_type": "code",
      "source": "#result[result['genre']=='Action'].sort_values(by = 'count',ascending=False).head(5)",
      "metadata": {
        "trusted": true
      },
      "outputs": [],
      "execution_count": 50
    },
    {
      "cell_type": "code",
      "source": "",
      "metadata": {
        "trusted": true
      },
      "outputs": [],
      "execution_count": null
    },
    {
      "cell_type": "code",
      "source": "",
      "metadata": {
        "trusted": true
      },
      "outputs": [],
      "execution_count": null
    },
    {
      "cell_type": "code",
      "source": "",
      "metadata": {
        "trusted": true
      },
      "outputs": [],
      "execution_count": null
    },
    {
      "cell_type": "code",
      "source": "",
      "metadata": {
        "trusted": true
      },
      "outputs": [],
      "execution_count": 43
    },
    {
      "cell_type": "code",
      "source": "",
      "metadata": {
        "trusted": true
      },
      "outputs": [],
      "execution_count": null
    },
    {
      "cell_type": "code",
      "source": "",
      "metadata": {
        "trusted": true
      },
      "outputs": [],
      "execution_count": null
    },
    {
      "cell_type": "code",
      "source": "",
      "metadata": {
        "trusted": true
      },
      "outputs": [],
      "execution_count": null
    }
  ]
}